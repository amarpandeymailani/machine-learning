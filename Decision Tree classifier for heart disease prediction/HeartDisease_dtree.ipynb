{
 "cells": [
  {
   "cell_type": "code",
   "execution_count": 4,
   "metadata": {},
   "outputs": [],
   "source": [
    "import numpy as np\n",
    "import pandas as pd\n",
    "import matplotlib.pyplot as plt\n",
    "import seaborn as sns\n",
    "import math\n",
    "\n",
    "from sklearn.metrics import confusion_matrix\n",
    "from sklearn.metrics import precision_score\n",
    "from sklearn.metrics import recall_score\n",
    "from sklearn.metrics import f1_score\n",
    "from sklearn.metrics import accuracy_score as acc\n",
    "\n",
    "from sklearn.model_selection import train_test_split\n",
    "from sklearn.linear_model import LogisticRegression\n",
    "from sklearn.tree import DecisionTreeClassifier\n",
    "from collections import Counter\n",
    "\n",
    "%matplotlib inline\n",
    "import warnings\n",
    "warnings.filterwarnings('ignore')"
   ]
  },
  {
   "cell_type": "code",
   "execution_count": 5,
   "metadata": {},
   "outputs": [],
   "source": [
    "data = pd.read_csv('heart.csv')"
   ]
  },
  {
   "cell_type": "code",
   "execution_count": 6,
   "metadata": {},
   "outputs": [
    {
     "name": "stdout",
     "output_type": "stream",
     "text": [
      "Shape of data : (303, 14)\n"
     ]
    }
   ],
   "source": [
    "print('Shape of data :',data.shape)"
   ]
  },
  {
   "cell_type": "code",
   "execution_count": 7,
   "metadata": {},
   "outputs": [
    {
     "data": {
      "text/html": [
       "<div>\n",
       "<style scoped>\n",
       "    .dataframe tbody tr th:only-of-type {\n",
       "        vertical-align: middle;\n",
       "    }\n",
       "\n",
       "    .dataframe tbody tr th {\n",
       "        vertical-align: top;\n",
       "    }\n",
       "\n",
       "    .dataframe thead th {\n",
       "        text-align: right;\n",
       "    }\n",
       "</style>\n",
       "<table border=\"1\" class=\"dataframe\">\n",
       "  <thead>\n",
       "    <tr style=\"text-align: right;\">\n",
       "      <th></th>\n",
       "      <th>age</th>\n",
       "      <th>sex</th>\n",
       "      <th>cp</th>\n",
       "      <th>trestbps</th>\n",
       "      <th>chol</th>\n",
       "      <th>fbs</th>\n",
       "      <th>restecg</th>\n",
       "      <th>thalach</th>\n",
       "      <th>exang</th>\n",
       "      <th>oldpeak</th>\n",
       "      <th>slope</th>\n",
       "      <th>ca</th>\n",
       "      <th>thal</th>\n",
       "      <th>target</th>\n",
       "    </tr>\n",
       "  </thead>\n",
       "  <tbody>\n",
       "    <tr>\n",
       "      <th>0</th>\n",
       "      <td>63</td>\n",
       "      <td>1</td>\n",
       "      <td>3</td>\n",
       "      <td>145</td>\n",
       "      <td>233</td>\n",
       "      <td>1</td>\n",
       "      <td>0</td>\n",
       "      <td>150</td>\n",
       "      <td>0</td>\n",
       "      <td>2.3</td>\n",
       "      <td>0</td>\n",
       "      <td>0</td>\n",
       "      <td>1</td>\n",
       "      <td>1</td>\n",
       "    </tr>\n",
       "    <tr>\n",
       "      <th>1</th>\n",
       "      <td>37</td>\n",
       "      <td>1</td>\n",
       "      <td>2</td>\n",
       "      <td>130</td>\n",
       "      <td>250</td>\n",
       "      <td>0</td>\n",
       "      <td>1</td>\n",
       "      <td>187</td>\n",
       "      <td>0</td>\n",
       "      <td>3.5</td>\n",
       "      <td>0</td>\n",
       "      <td>0</td>\n",
       "      <td>2</td>\n",
       "      <td>1</td>\n",
       "    </tr>\n",
       "    <tr>\n",
       "      <th>2</th>\n",
       "      <td>41</td>\n",
       "      <td>0</td>\n",
       "      <td>1</td>\n",
       "      <td>130</td>\n",
       "      <td>204</td>\n",
       "      <td>0</td>\n",
       "      <td>0</td>\n",
       "      <td>172</td>\n",
       "      <td>0</td>\n",
       "      <td>1.4</td>\n",
       "      <td>2</td>\n",
       "      <td>0</td>\n",
       "      <td>2</td>\n",
       "      <td>1</td>\n",
       "    </tr>\n",
       "    <tr>\n",
       "      <th>3</th>\n",
       "      <td>56</td>\n",
       "      <td>1</td>\n",
       "      <td>1</td>\n",
       "      <td>120</td>\n",
       "      <td>236</td>\n",
       "      <td>0</td>\n",
       "      <td>1</td>\n",
       "      <td>178</td>\n",
       "      <td>0</td>\n",
       "      <td>0.8</td>\n",
       "      <td>2</td>\n",
       "      <td>0</td>\n",
       "      <td>2</td>\n",
       "      <td>1</td>\n",
       "    </tr>\n",
       "    <tr>\n",
       "      <th>4</th>\n",
       "      <td>57</td>\n",
       "      <td>0</td>\n",
       "      <td>0</td>\n",
       "      <td>120</td>\n",
       "      <td>354</td>\n",
       "      <td>0</td>\n",
       "      <td>1</td>\n",
       "      <td>163</td>\n",
       "      <td>1</td>\n",
       "      <td>0.6</td>\n",
       "      <td>2</td>\n",
       "      <td>0</td>\n",
       "      <td>2</td>\n",
       "      <td>1</td>\n",
       "    </tr>\n",
       "  </tbody>\n",
       "</table>\n",
       "</div>"
      ],
      "text/plain": [
       "   age  sex  cp  trestbps  chol  fbs  restecg  thalach  exang  oldpeak  slope  \\\n",
       "0   63    1   3       145   233    1        0      150      0      2.3      0   \n",
       "1   37    1   2       130   250    0        1      187      0      3.5      0   \n",
       "2   41    0   1       130   204    0        0      172      0      1.4      2   \n",
       "3   56    1   1       120   236    0        1      178      0      0.8      2   \n",
       "4   57    0   0       120   354    0        1      163      1      0.6      2   \n",
       "\n",
       "   ca  thal  target  \n",
       "0   0     1       1  \n",
       "1   0     2       1  \n",
       "2   0     2       1  \n",
       "3   0     2       1  \n",
       "4   0     2       1  "
      ]
     },
     "execution_count": 7,
     "metadata": {},
     "output_type": "execute_result"
    }
   ],
   "source": [
    "data.head()"
   ]
  },
  {
   "cell_type": "code",
   "execution_count": 8,
   "metadata": {},
   "outputs": [
    {
     "data": {
      "text/html": [
       "<div>\n",
       "<style scoped>\n",
       "    .dataframe tbody tr th:only-of-type {\n",
       "        vertical-align: middle;\n",
       "    }\n",
       "\n",
       "    .dataframe tbody tr th {\n",
       "        vertical-align: top;\n",
       "    }\n",
       "\n",
       "    .dataframe thead th {\n",
       "        text-align: right;\n",
       "    }\n",
       "</style>\n",
       "<table border=\"1\" class=\"dataframe\">\n",
       "  <thead>\n",
       "    <tr style=\"text-align: right;\">\n",
       "      <th></th>\n",
       "      <th>age</th>\n",
       "      <th>sex</th>\n",
       "      <th>cp</th>\n",
       "      <th>trestbps</th>\n",
       "      <th>chol</th>\n",
       "      <th>fbs</th>\n",
       "      <th>restecg</th>\n",
       "      <th>thalach</th>\n",
       "      <th>exang</th>\n",
       "      <th>oldpeak</th>\n",
       "      <th>slope</th>\n",
       "      <th>ca</th>\n",
       "      <th>thal</th>\n",
       "      <th>target</th>\n",
       "    </tr>\n",
       "  </thead>\n",
       "  <tbody>\n",
       "    <tr>\n",
       "      <th>count</th>\n",
       "      <td>303.000000</td>\n",
       "      <td>303.000000</td>\n",
       "      <td>303.000000</td>\n",
       "      <td>303.000000</td>\n",
       "      <td>303.000000</td>\n",
       "      <td>303.000000</td>\n",
       "      <td>303.000000</td>\n",
       "      <td>303.000000</td>\n",
       "      <td>303.000000</td>\n",
       "      <td>303.000000</td>\n",
       "      <td>303.000000</td>\n",
       "      <td>303.000000</td>\n",
       "      <td>303.000000</td>\n",
       "      <td>303.000000</td>\n",
       "    </tr>\n",
       "    <tr>\n",
       "      <th>mean</th>\n",
       "      <td>54.366337</td>\n",
       "      <td>0.683168</td>\n",
       "      <td>0.966997</td>\n",
       "      <td>131.623762</td>\n",
       "      <td>246.264026</td>\n",
       "      <td>0.148515</td>\n",
       "      <td>0.528053</td>\n",
       "      <td>149.646865</td>\n",
       "      <td>0.326733</td>\n",
       "      <td>1.039604</td>\n",
       "      <td>1.399340</td>\n",
       "      <td>0.729373</td>\n",
       "      <td>2.313531</td>\n",
       "      <td>0.544554</td>\n",
       "    </tr>\n",
       "    <tr>\n",
       "      <th>std</th>\n",
       "      <td>9.082101</td>\n",
       "      <td>0.466011</td>\n",
       "      <td>1.032052</td>\n",
       "      <td>17.538143</td>\n",
       "      <td>51.830751</td>\n",
       "      <td>0.356198</td>\n",
       "      <td>0.525860</td>\n",
       "      <td>22.905161</td>\n",
       "      <td>0.469794</td>\n",
       "      <td>1.161075</td>\n",
       "      <td>0.616226</td>\n",
       "      <td>1.022606</td>\n",
       "      <td>0.612277</td>\n",
       "      <td>0.498835</td>\n",
       "    </tr>\n",
       "    <tr>\n",
       "      <th>min</th>\n",
       "      <td>29.000000</td>\n",
       "      <td>0.000000</td>\n",
       "      <td>0.000000</td>\n",
       "      <td>94.000000</td>\n",
       "      <td>126.000000</td>\n",
       "      <td>0.000000</td>\n",
       "      <td>0.000000</td>\n",
       "      <td>71.000000</td>\n",
       "      <td>0.000000</td>\n",
       "      <td>0.000000</td>\n",
       "      <td>0.000000</td>\n",
       "      <td>0.000000</td>\n",
       "      <td>0.000000</td>\n",
       "      <td>0.000000</td>\n",
       "    </tr>\n",
       "    <tr>\n",
       "      <th>25%</th>\n",
       "      <td>47.500000</td>\n",
       "      <td>0.000000</td>\n",
       "      <td>0.000000</td>\n",
       "      <td>120.000000</td>\n",
       "      <td>211.000000</td>\n",
       "      <td>0.000000</td>\n",
       "      <td>0.000000</td>\n",
       "      <td>133.500000</td>\n",
       "      <td>0.000000</td>\n",
       "      <td>0.000000</td>\n",
       "      <td>1.000000</td>\n",
       "      <td>0.000000</td>\n",
       "      <td>2.000000</td>\n",
       "      <td>0.000000</td>\n",
       "    </tr>\n",
       "    <tr>\n",
       "      <th>50%</th>\n",
       "      <td>55.000000</td>\n",
       "      <td>1.000000</td>\n",
       "      <td>1.000000</td>\n",
       "      <td>130.000000</td>\n",
       "      <td>240.000000</td>\n",
       "      <td>0.000000</td>\n",
       "      <td>1.000000</td>\n",
       "      <td>153.000000</td>\n",
       "      <td>0.000000</td>\n",
       "      <td>0.800000</td>\n",
       "      <td>1.000000</td>\n",
       "      <td>0.000000</td>\n",
       "      <td>2.000000</td>\n",
       "      <td>1.000000</td>\n",
       "    </tr>\n",
       "    <tr>\n",
       "      <th>75%</th>\n",
       "      <td>61.000000</td>\n",
       "      <td>1.000000</td>\n",
       "      <td>2.000000</td>\n",
       "      <td>140.000000</td>\n",
       "      <td>274.500000</td>\n",
       "      <td>0.000000</td>\n",
       "      <td>1.000000</td>\n",
       "      <td>166.000000</td>\n",
       "      <td>1.000000</td>\n",
       "      <td>1.600000</td>\n",
       "      <td>2.000000</td>\n",
       "      <td>1.000000</td>\n",
       "      <td>3.000000</td>\n",
       "      <td>1.000000</td>\n",
       "    </tr>\n",
       "    <tr>\n",
       "      <th>max</th>\n",
       "      <td>77.000000</td>\n",
       "      <td>1.000000</td>\n",
       "      <td>3.000000</td>\n",
       "      <td>200.000000</td>\n",
       "      <td>564.000000</td>\n",
       "      <td>1.000000</td>\n",
       "      <td>2.000000</td>\n",
       "      <td>202.000000</td>\n",
       "      <td>1.000000</td>\n",
       "      <td>6.200000</td>\n",
       "      <td>2.000000</td>\n",
       "      <td>4.000000</td>\n",
       "      <td>3.000000</td>\n",
       "      <td>1.000000</td>\n",
       "    </tr>\n",
       "  </tbody>\n",
       "</table>\n",
       "</div>"
      ],
      "text/plain": [
       "              age         sex          cp    trestbps        chol         fbs  \\\n",
       "count  303.000000  303.000000  303.000000  303.000000  303.000000  303.000000   \n",
       "mean    54.366337    0.683168    0.966997  131.623762  246.264026    0.148515   \n",
       "std      9.082101    0.466011    1.032052   17.538143   51.830751    0.356198   \n",
       "min     29.000000    0.000000    0.000000   94.000000  126.000000    0.000000   \n",
       "25%     47.500000    0.000000    0.000000  120.000000  211.000000    0.000000   \n",
       "50%     55.000000    1.000000    1.000000  130.000000  240.000000    0.000000   \n",
       "75%     61.000000    1.000000    2.000000  140.000000  274.500000    0.000000   \n",
       "max     77.000000    1.000000    3.000000  200.000000  564.000000    1.000000   \n",
       "\n",
       "          restecg     thalach       exang     oldpeak       slope          ca  \\\n",
       "count  303.000000  303.000000  303.000000  303.000000  303.000000  303.000000   \n",
       "mean     0.528053  149.646865    0.326733    1.039604    1.399340    0.729373   \n",
       "std      0.525860   22.905161    0.469794    1.161075    0.616226    1.022606   \n",
       "min      0.000000   71.000000    0.000000    0.000000    0.000000    0.000000   \n",
       "25%      0.000000  133.500000    0.000000    0.000000    1.000000    0.000000   \n",
       "50%      1.000000  153.000000    0.000000    0.800000    1.000000    0.000000   \n",
       "75%      1.000000  166.000000    1.000000    1.600000    2.000000    1.000000   \n",
       "max      2.000000  202.000000    1.000000    6.200000    2.000000    4.000000   \n",
       "\n",
       "             thal      target  \n",
       "count  303.000000  303.000000  \n",
       "mean     2.313531    0.544554  \n",
       "std      0.612277    0.498835  \n",
       "min      0.000000    0.000000  \n",
       "25%      2.000000    0.000000  \n",
       "50%      2.000000    1.000000  \n",
       "75%      3.000000    1.000000  \n",
       "max      3.000000    1.000000  "
      ]
     },
     "execution_count": 8,
     "metadata": {},
     "output_type": "execute_result"
    }
   ],
   "source": [
    "data.describe()"
   ]
  },
  {
   "cell_type": "code",
   "execution_count": 9,
   "metadata": {},
   "outputs": [
    {
     "name": "stdout",
     "output_type": "stream",
     "text": [
      "<class 'pandas.core.frame.DataFrame'>\n",
      "RangeIndex: 303 entries, 0 to 302\n",
      "Data columns (total 14 columns):\n",
      "age         303 non-null int64\n",
      "sex         303 non-null int64\n",
      "cp          303 non-null int64\n",
      "trestbps    303 non-null int64\n",
      "chol        303 non-null int64\n",
      "fbs         303 non-null int64\n",
      "restecg     303 non-null int64\n",
      "thalach     303 non-null int64\n",
      "exang       303 non-null int64\n",
      "oldpeak     303 non-null float64\n",
      "slope       303 non-null int64\n",
      "ca          303 non-null int64\n",
      "thal        303 non-null int64\n",
      "target      303 non-null int64\n",
      "dtypes: float64(1), int64(13)\n",
      "memory usage: 33.2 KB\n"
     ]
    }
   ],
   "source": [
    "data.info()"
   ]
  },
  {
   "cell_type": "markdown",
   "metadata": {},
   "source": [
    "# Data set description"
   ]
  },
  {
   "cell_type": "markdown",
   "metadata": {},
   "source": [
    "1. age: The person's age in years\n",
    "\n",
    "2. sex: The person's sex (1 = male, 0 = female)\n",
    "\n",
    "3. cp: The chest pain experienced (Value 1: typical angina, Value 2: atypical angina, Value 3: non-anginal pain, Value 4: asymptomatic)\n",
    "\n",
    "4. trestbps: The person's resting blood pressure (mm Hg on admission to the hospital)\n",
    "\n",
    "5. chol: The person's cholesterol measurement in mg/dl\n",
    "\n",
    "6. fbs: The person's fasting blood sugar (> 120 mg/dl, 1 = true; 0 = false)\n",
    "\n",
    "7. restecg: Resting electrocardiographic measurement (0 = normal, 1 = having ST-T wave abnormality, 2 = showing probable or definite left ventricular hypertrophy by Estes' criteria)\n",
    "\n",
    "8. thalach: The person's maximum heart rate achieved\n",
    "\n",
    "9. exang: Exercise induced angina (1 = yes; 0 = no)\n",
    "\n",
    "10. oldpeak: ST depression induced by exercise relative to rest ('ST' relates to positions on the ECG plot. See more here)\n",
    "\n",
    "11. slope: the slope of the peak exercise ST segment (Value 1: upsloping, Value 2: flat, Value 3: downsloping)\n",
    "\n",
    "12. ca: The number of major vessels (0-3)\n",
    "\n",
    "13. thal: A blood disorder called thalassemia (3 = normal; 6 = fixed defect; 7 = reversable defect)\n",
    "\n",
    "14. target: Heart disease (0 = no, 1 = yes)\n",
    "\n",
    "Heart disease risk factors to the following: high cholesterol, high blood pressure, diabetes, weight, family history and smoking . \n",
    "\n",
    "According to another source , the major factors that can't be changed are: increasing age, male gender and heredity. \n",
    "\n",
    "Note that thalassemia, one of the variables in this dataset, is heredity. \n",
    "\n",
    "Major factors that can be modified are: Smoking, high cholesterol, high blood pressure, physical inactivity, and being overweight and having diabetes. \n",
    "\n",
    "Other factors include stress, alcohol and poor diet/nutrition."
   ]
  },
  {
   "cell_type": "code",
   "execution_count": 10,
   "metadata": {},
   "outputs": [
    {
     "name": "stdout",
     "output_type": "stream",
     "text": [
      "Number of null rows in each column :\n",
      "age         0\n",
      "sex         0\n",
      "cp          0\n",
      "trestbps    0\n",
      "chol        0\n",
      "fbs         0\n",
      "restecg     0\n",
      "thalach     0\n",
      "exang       0\n",
      "oldpeak     0\n",
      "slope       0\n",
      "ca          0\n",
      "thal        0\n",
      "target      0\n",
      "dtype: int64\n"
     ]
    }
   ],
   "source": [
    "print('Number of null rows in each column :')\n",
    "print(data.isnull().sum())"
   ]
  },
  {
   "cell_type": "code",
   "execution_count": 11,
   "metadata": {},
   "outputs": [
    {
     "name": "stdout",
     "output_type": "stream",
     "text": [
      "Correlation of other columns with target column :\n",
      "target      1.000000\n",
      "exang       0.436757\n",
      "cp          0.433798\n",
      "oldpeak     0.430696\n",
      "thalach     0.421741\n",
      "ca          0.391724\n",
      "slope       0.345877\n",
      "thal        0.344029\n",
      "sex         0.280937\n",
      "age         0.225439\n",
      "trestbps    0.144931\n",
      "restecg     0.137230\n",
      "chol        0.085239\n",
      "fbs         0.028046\n",
      "Name: target, dtype: float64\n"
     ]
    }
   ],
   "source": [
    "print('Correlation of other columns with target column :')\n",
    "print(data.corr()[\"target\"].abs().sort_values(ascending=False))"
   ]
  },
  {
   "cell_type": "markdown",
   "metadata": {},
   "source": [
    "### This shows that most columns are moderately correlated with target, but 'fbs' is very weakly correlated."
   ]
  },
  {
   "cell_type": "markdown",
   "metadata": {},
   "source": [
    "# Spliting of data into training and testing"
   ]
  },
  {
   "cell_type": "code",
   "execution_count": 12,
   "metadata": {},
   "outputs": [],
   "source": [
    "def split_data(training_size):\n",
    "    predictors = data.drop(\"target\",axis=1)\n",
    "    target = data[\"target\"]\n",
    "    X_train,X_test,Y_train,Y_test = train_test_split(predictors,target,test_size=(1-training_size),random_state=0)\n",
    "    print(\"\\n Training features have {0} records and Testing features have {1} records.\".\\\n",
    "          format(X_train.shape[0], X_test.shape[0]))\n",
    "    \n",
    "    return X_train,X_test,Y_train,Y_test"
   ]
  },
  {
   "cell_type": "markdown",
   "metadata": {},
   "source": [
    "### Confusion matrix function"
   ]
  },
  {
   "cell_type": "code",
   "execution_count": 13,
   "metadata": {},
   "outputs": [],
   "source": [
    "def my_confusion_matrix(Y_test,y_test_predicted):\n",
    "    cm = confusion_matrix(Y_test,y_test_predicted)\n",
    "    print('Confusion Matrix of the Classifier:')\n",
    "    print(cm)\n",
    "\n",
    "    sns.heatmap(cm,annot = True,cmap='coolwarm', fmt = \"d\")"
   ]
  },
  {
   "cell_type": "markdown",
   "metadata": {},
   "source": [
    "### Precision,Recall and F-score function"
   ]
  },
  {
   "cell_type": "code",
   "execution_count": 14,
   "metadata": {},
   "outputs": [],
   "source": [
    "def calculate_score(Y_test, y_test_predicted):\n",
    "\n",
    "    my_precision_score = precision_score(Y_test, y_test_predicted)\n",
    "    print(' Precision Score of the Classifier is : '+str(my_precision_score))\n",
    "\n",
    "    my_recall_score = recall_score(Y_test, y_test_predicted)\n",
    "    print(' Recall Score of the Classifier is : '+str(my_recall_score))\n",
    "\n",
    "    my_f_score = f1_score(Y_test, y_test_predicted)\n",
    "    print(' F-Score of the Classifier is : '+str(my_f_score))"
   ]
  },
  {
   "cell_type": "code",
   "execution_count": 15,
   "metadata": {},
   "outputs": [
    {
     "name": "stdout",
     "output_type": "stream",
     "text": [
      "\n",
      " Training features have 212 records and Testing features have 91 records.\n"
     ]
    }
   ],
   "source": [
    "training_size = 0.7\n",
    "X_train,X_test,Y_train,Y_test = split_data(training_size)"
   ]
  },
  {
   "cell_type": "markdown",
   "metadata": {},
   "source": [
    "# Logistic Regression"
   ]
  },
  {
   "cell_type": "code",
   "execution_count": 16,
   "metadata": {},
   "outputs": [
    {
     "name": "stdout",
     "output_type": "stream",
     "text": [
      "Logistic Regression Classfier\n",
      "Training accuracy : 86.3208\n",
      "Testing accuracy : 80.2198\n"
     ]
    }
   ],
   "source": [
    "logistic_clf = LogisticRegression(random_state=0)\n",
    "logistic_clf.fit(X_train, Y_train)\n",
    "\n",
    "print('Logistic Regression Classfier')\n",
    "\n",
    "y_train_predicted_logistic = logistic_clf.predict(X_train)\n",
    "print('Training accuracy : %.4f' % (100*acc(Y_train, y_train_predicted_logistic)))\n",
    "\n",
    "y_test_predicted_logistic = logistic_clf.predict(X_test)\n",
    "print('Testing accuracy : %.4f' % (100*acc(Y_test, y_test_predicted_logistic)))"
   ]
  },
  {
   "cell_type": "code",
   "execution_count": 17,
   "metadata": {},
   "outputs": [
    {
     "name": "stdout",
     "output_type": "stream",
     "text": [
      "Logistic Regression\n",
      "Confusion Matrix of the Classifier:\n",
      "[[32 12]\n",
      " [ 6 41]]\n",
      " Precision Score of the Classifier is : 0.7735849056603774\n",
      " Recall Score of the Classifier is : 0.8723404255319149\n",
      " F-Score of the Classifier is : 0.8200000000000001\n"
     ]
    },
    {
     "data": {
      "image/png": "[encoded data removed]",
      "text/plain": [
       "<Figure size 432x288 with 2 Axes>"
      ]
     },
     "metadata": {
      "needs_background": "light"
     },
     "output_type": "display_data"
    }
   ],
   "source": [
    "print('Logistic Regression')\n",
    "my_confusion_matrix(Y_test,y_test_predicted_logistic)\n",
    "calculate_score(Y_test, y_test_predicted_logistic)"
   ]
  },
  {
   "cell_type": "markdown",
   "metadata": {},
   "source": [
    "# Decision Tree Using Gini Index (Using Sklearn)"
   ]
  },
  {
   "cell_type": "code",
   "execution_count": 18,
   "metadata": {},
   "outputs": [
    {
     "name": "stdout",
     "output_type": "stream",
     "text": [
      "Decision Tree Classfier\n",
      "Training accuracy : 84.9057\n",
      "Testing accuracy : 75.8242\n"
     ]
    }
   ],
   "source": [
    "decision_tree_clf = DecisionTreeClassifier(criterion = \"gini\", max_depth=3,max_features = 5, random_state=0)\n",
    "\n",
    "decision_tree_clf.fit(X_train, Y_train)\n",
    "\n",
    "print('Decision Tree Classfier')\n",
    "\n",
    "y_train_predicted_dt = decision_tree_clf.predict(X_train)\n",
    "\n",
    "print('Training accuracy : %.4f' % (100*acc(Y_train, y_train_predicted_dt)))\n",
    "\n",
    "y_test_predicted_dt = decision_tree_clf.predict(X_test)\n",
    "print('Testing accuracy : %.4f' % (100*acc(Y_test, y_test_predicted_dt)))"
   ]
  },
  {
   "cell_type": "code",
   "execution_count": 19,
   "metadata": {},
   "outputs": [
    {
     "name": "stdout",
     "output_type": "stream",
     "text": [
      "Decision Tree Using Gini Index (Using Sklearn)\n",
      "Confusion Matrix of the Classifier:\n",
      "[[32 12]\n",
      " [10 37]]\n",
      " Precision Score of the Classifier is : 0.7551020408163265\n",
      " Recall Score of the Classifier is : 0.7872340425531915\n",
      " F-Score of the Classifier is : 0.7708333333333333\n"
     ]
    },
    {
     "data": {
      "image/png": "[encoded data removed]",
      "text/plain": [
       "<Figure size 432x288 with 2 Axes>"
      ]
     },
     "metadata": {
      "needs_background": "light"
     },
     "output_type": "display_data"
    }
   ],
   "source": [
    "print('Decision Tree Using Gini Index (Using Sklearn)')\n",
    "my_confusion_matrix(Y_test,y_test_predicted_dt)\n",
    "calculate_score(Y_test, y_test_predicted_dt)"
   ]
  },
  {
   "cell_type": "markdown",
   "metadata": {},
   "source": [
    "# Decision Tree Using Information Gain (Using Sklearn)"
   ]
  },
  {
   "cell_type": "code",
   "execution_count": 20,
   "metadata": {},
   "outputs": [
    {
     "name": "stdout",
     "output_type": "stream",
     "text": [
      "Decision Tree Classfier\n",
      "Training accuracy : 84.4340\n",
      "Testing accuracy : 76.9231\n"
     ]
    }
   ],
   "source": [
    "decision_tree_clf = DecisionTreeClassifier(criterion = \"entropy\", max_depth=3,max_features = 5, random_state=0)\n",
    "\n",
    "decision_tree_clf.fit(X_train, Y_train)\n",
    "\n",
    "print('Decision Tree Classfier')\n",
    "\n",
    "y_train_predicted_dt = decision_tree_clf.predict(X_train)\n",
    "print('Training accuracy : %.4f' % (100*acc(Y_train, y_train_predicted_dt)))\n",
    "\n",
    "y_test_predicted_dt = decision_tree_clf.predict(X_test)\n",
    "print('Testing accuracy : %.4f' % (100*acc(Y_test, y_test_predicted_dt)))"
   ]
  },
  {
   "cell_type": "code",
   "execution_count": 21,
   "metadata": {},
   "outputs": [
    {
     "name": "stdout",
     "output_type": "stream",
     "text": [
      "Decision Tree Using Information Gain (Using Sklearn)\n",
      "Confusion Matrix of the Classifier:\n",
      "[[32 12]\n",
      " [ 9 38]]\n",
      " Precision Score of the Classifier is : 0.76\n",
      " Recall Score of the Classifier is : 0.8085106382978723\n",
      " F-Score of the Classifier is : 0.7835051546391754\n"
     ]
    },
    {
     "data": {
      "image/png": "[encoded data removed]",
      "text/plain": [
       "<Figure size 432x288 with 2 Axes>"
      ]
     },
     "metadata": {
      "needs_background": "light"
     },
     "output_type": "display_data"
    }
   ],
   "source": [
    "print('Decision Tree Using Information Gain (Using Sklearn)')\n",
    "my_confusion_matrix(Y_test,y_test_predicted_dt)\n",
    "calculate_score(Y_test, y_test_predicted_dt)"
   ]
  },
  {
   "cell_type": "markdown",
   "metadata": {},
   "source": [
    "# Decision Tree Using Gini Index (from scratch) "
   ]
  },
  {
   "cell_type": "code",
   "execution_count": 22,
   "metadata": {},
   "outputs": [],
   "source": [
    "class Node:\n",
    "    def __init__(self, predict_ginied_class):\n",
    "        self.predict_ginied_class = predict_ginied_class\n",
    "        self.feature_index = 0\n",
    "        self.threshold = 0\n",
    "        self.left = None\n",
    "        self.right = None\n",
    "\n",
    "\n",
    "class Decision_Tree_Classifier_Gini:\n",
    "    def __init__(self, max_depth=None):\n",
    "        self.max_depth = max_depth\n",
    "\n",
    "    def fit_gini(self, X, y):\n",
    "        self.n_classes_ = len(set(y))\n",
    "        self.n_features_ = X.shape[1]\n",
    "        self.tree_ = self._grow_tree(X, y)\n",
    "\n",
    "    def predict_gini(self, X):\n",
    "        return [self._predict_gini(inputs) for inputs in X]\n",
    "\n",
    "    def _best_split(self, X, y):\n",
    "        m = y.size\n",
    "        if m <= 1:\n",
    "            return None, None\n",
    "        num_parent = [np.sum(y == c) for c in range(self.n_classes_)]\n",
    "        best_gini = 1.0 - sum((n / m) ** 2 for n in num_parent)\n",
    "        best_idx, best_thr = None, None\n",
    "        for idx in range(self.n_features_):\n",
    "            thresholds, classes = zip(*sorted(zip(X[:, idx], y)))\n",
    "            num_left = [0] * self.n_classes_\n",
    "            num_right = num_parent.copy()\n",
    "            for i in range(1, m):\n",
    "                c = classes[i - 1]\n",
    "                num_left[c] += 1\n",
    "                num_right[c] -= 1\n",
    "                gini_left = 1.0 - sum(\n",
    "                    (num_left[x] / i) ** 2 for x in range(self.n_classes_)\n",
    "                )\n",
    "                gini_right = 1.0 - sum(\n",
    "                    (num_right[x] / (m - i)) ** 2 for x in range(self.n_classes_)\n",
    "                )\n",
    "                gini = (i * gini_left + (m - i) * gini_right) / m\n",
    "                if thresholds[i] == thresholds[i - 1]:\n",
    "                    continue\n",
    "                if gini < best_gini:\n",
    "                    best_gini = gini\n",
    "                    best_idx = idx\n",
    "                    best_thr = (thresholds[i] + thresholds[i - 1]) / 2\n",
    "        return best_idx, best_thr\n",
    "\n",
    "    def _grow_tree(self, X, y, depth=0):\n",
    "        num_samples_per_class = [np.sum(y == i) for i in range(self.n_classes_)]\n",
    "        predict_ginied_class = np.argmax(num_samples_per_class)\n",
    "        node = Node(predict_ginied_class=predict_ginied_class)\n",
    "        if depth < self.max_depth:\n",
    "            idx, thr = self._best_split(X, y)\n",
    "            if idx is not None:\n",
    "                indices_left = X[:, idx] < thr\n",
    "                X_left, y_left = X[indices_left], y[indices_left]\n",
    "                X_right, y_right = X[~indices_left], y[~indices_left]\n",
    "                node.feature_index = idx\n",
    "                node.threshold = thr\n",
    "                node.left = self._grow_tree(X_left, y_left, depth + 1)\n",
    "                node.right = self._grow_tree(X_right, y_right, depth + 1)\n",
    "        return node\n",
    "\n",
    "    def _predict_gini(self, inputs):\n",
    "        node = self.tree_\n",
    "        while node.left:\n",
    "            if inputs[node.feature_index] < node.threshold:\n",
    "                node = node.left\n",
    "            else:\n",
    "                node = node.right\n",
    "        return node.predict_ginied_class"
   ]
  },
  {
   "cell_type": "code",
   "execution_count": 23,
   "metadata": {},
   "outputs": [
    {
     "name": "stdout",
     "output_type": "stream",
     "text": [
      "Training accuracy : 86.7925\n",
      " Testing Accuracy obtained : 81.31868131868131\n"
     ]
    }
   ],
   "source": [
    "X_train_np_array = X_train.values\n",
    "Y_train_np_array = Y_train.values\n",
    "X_test_np_array = X_test.values\n",
    "\n",
    "# Fit data\n",
    "clf = Decision_Tree_Classifier_Gini(max_depth=3)\n",
    "\n",
    "clf.fit_gini(X_train_np_array,Y_train_np_array)\n",
    "\n",
    "y_train_predicted_dt = clf.predict_gini(X_train_np_array)\n",
    "\n",
    "print('Training accuracy : %.4f' % (100*acc(Y_train, y_train_predicted_dt)))\n",
    "\n",
    "y_test_predicted_dt = clf.predict_gini(X_test_np_array)\n",
    "\n",
    "\n",
    "print(' Testing Accuracy obtained :',(100*acc(Y_test, y_test_predicted_dt)))"
   ]
  },
  {
   "cell_type": "code",
   "execution_count": 24,
   "metadata": {},
   "outputs": [
    {
     "name": "stdout",
     "output_type": "stream",
     "text": [
      "Confusion Matrix of the Classifier:\n",
      "[[32 12]\n",
      " [ 5 42]]\n",
      " Precision Score of the Classifier is : 0.7777777777777778\n",
      " Recall Score of the Classifier is : 0.8936170212765957\n",
      " F-Score of the Classifier is : 0.8316831683168316\n"
     ]
    },
    {
     "data": {
      "image/png": "[encoded data removed]",
      "text/plain": [
       "<Figure size 432x288 with 2 Axes>"
      ]
     },
     "metadata": {
      "needs_background": "light"
     },
     "output_type": "display_data"
    }
   ],
   "source": [
    "my_confusion_matrix(Y_test, y_test_predicted_dt)\n",
    "calculate_score(Y_test, y_test_predicted_dt)"
   ]
  },
  {
   "cell_type": "markdown",
   "metadata": {},
   "source": [
    "# Decision Tree Using Information Gain (from scratch) "
   ]
  },
  {
   "cell_type": "code",
   "execution_count": 25,
   "metadata": {},
   "outputs": [],
   "source": [
    "def My_entropy(y):\n",
    "    histo = np.bincount(y)\n",
    "    p_s = histo / len(y)\n",
    "    return -np.sum([p * np.log2(p) for p in p_s if p > 0])\n",
    "\n",
    "\n",
    "class node:\n",
    "\n",
    "    def __init__(self, feature=None, threshold=None, left=None, right=None, *, value=None):\n",
    "        self.feature = feature\n",
    "        self.threshold = threshold\n",
    "        self.left = left\n",
    "        self.right = right\n",
    "        self.value = value\n",
    "\n",
    "    def is_leaf_nodes(self):\n",
    "        return self.value is not None\n",
    "\n",
    "\n",
    "class MyDecisionTree:\n",
    "\n",
    "    def __init__(self, min_samples_split=2, max_depth=100, n_features=None):\n",
    "        self.min_samples_split = min_samples_split\n",
    "        self.max_depth = max_depth\n",
    "        self.n_features = n_features\n",
    "        self.root = None\n",
    "\n",
    "    def my_fit(self, X, y):\n",
    "        self.n_features = X.shape[1] if not self.n_features else min(self.n_features, X.shape[1])\n",
    "        self.root = self.grow_tree(X, y)\n",
    "\n",
    "    def my_predict(self, X):\n",
    "        return np.array([self.traverse_tree(x, self.root) for x in X])\n",
    "\n",
    "    def grow_tree(self, X, y, depth=0):\n",
    "        n_samples, n_features = X.shape\n",
    "        n_labels = len(np.unique(y))\n",
    "\n",
    "        # stopping criteria\n",
    "        if (depth >= self.max_depth\n",
    "                or n_labels == 1\n",
    "                or n_samples < self.min_samples_split):\n",
    "            leaf_value = self.most_common_label(y)\n",
    "            return node(value=leaf_value)\n",
    "\n",
    "        feat_idxs = np.random.choice(n_features, self.n_features, replace=False)\n",
    "\n",
    "        # greedily select the best split according to information gain\n",
    "        best_feat, best_thresh = self.best_criteria(X, y, feat_idxs)\n",
    "        \n",
    "        # grow the children that result from the split\n",
    "        left_idxs, right_idxs = self.split(X[:, best_feat], best_thresh)\n",
    "        left = self.grow_tree(X[left_idxs, :], y[left_idxs], depth+1)\n",
    "        right = self.grow_tree(X[right_idxs, :], y[right_idxs], depth+1)\n",
    "        return node(best_feat, best_thresh, left, right)\n",
    "\n",
    "    def best_criteria(self, X, y, feat_idxs):\n",
    "        best_gain = -1\n",
    "        split_idx, split_thresh = None, None\n",
    "        for feat_idx in feat_idxs:\n",
    "            X_column = X[:, feat_idx]\n",
    "            thresholds = np.unique(X_column)\n",
    "            for threshold in thresholds:\n",
    "                gain = self.information_gain(y, X_column, threshold)\n",
    "\n",
    "                if gain > best_gain:\n",
    "                    best_gain = gain\n",
    "                    split_idx = feat_idx\n",
    "                    split_thresh = threshold\n",
    "\n",
    "        return split_idx, split_thresh\n",
    "\n",
    "    def information_gain(self, y, X_column, split_thresh):\n",
    "        # parent loss\n",
    "        parent_My_entropy = My_entropy(y)\n",
    "\n",
    "        # generate split\n",
    "        left_idxs, right_idxs = self.split(X_column, split_thresh)\n",
    "\n",
    "        if len(left_idxs) == 0 or len(right_idxs) == 0:\n",
    "            return 0\n",
    "\n",
    "        # compute the weighted avg. of the loss for the children\n",
    "        n = len(y)\n",
    "        n_l, n_r = len(left_idxs), len(right_idxs)\n",
    "        e_l, e_r = My_entropy(y[left_idxs]), My_entropy(y[right_idxs])\n",
    "        child_My_entropy = (n_l / n) * e_l + (n_r / n) * e_r\n",
    "\n",
    "        # information gain is difference in loss before vs. after split\n",
    "        ig = parent_My_entropy - child_My_entropy\n",
    "        return ig\n",
    "\n",
    "    def split(self, X_column, split_thresh):\n",
    "        left_idxs = np.argwhere(X_column <= split_thresh).flatten()\n",
    "        right_idxs = np.argwhere(X_column > split_thresh).flatten()\n",
    "        return left_idxs, right_idxs\n",
    "\n",
    "    def traverse_tree(self, x, node):\n",
    "        if node.is_leaf_nodes():\n",
    "            return node.value\n",
    "\n",
    "        if x[node.feature] <= node.threshold:\n",
    "            return self.traverse_tree(x, node.left)\n",
    "        return self.traverse_tree(x, node.right)\n",
    "\n",
    "    def most_common_label(self, y):\n",
    "        counter = Counter(y)\n",
    "        most_common = counter.most_common(1)[0][0]\n",
    "        return most_common"
   ]
  },
  {
   "cell_type": "code",
   "execution_count": 26,
   "metadata": {},
   "outputs": [
    {
     "name": "stdout",
     "output_type": "stream",
     "text": [
      "Training accuracy : 86.7925\n",
      "Accuracy obtained : 75.82417582417582\n"
     ]
    }
   ],
   "source": [
    "X_train_np_array = X_train.values\n",
    "Y_train_np_array = Y_train.values\n",
    "X_test_np_array = X_test.values\n",
    "\n",
    "# Fit data.\n",
    "clf = MyDecisionTree(max_depth=3)\n",
    "clf.my_fit(X_train_np_array,Y_train_np_array)\n",
    "y_test_predicted_dt = clf.my_predict(X_test_np_array)\n",
    "\n",
    "print('Training accuracy : %.4f' % (100*acc(Y_train, y_train_predicted_dt)))\n",
    "\n",
    "y_test_predicted_dt = clf.my_predict(X_test_np_array)\n",
    "\n",
    "\n",
    "print('Accuracy obtained :',(100*acc(Y_test, y_test_predicted_dt)))"
   ]
  },
  {
   "cell_type": "code",
   "execution_count": 27,
   "metadata": {},
   "outputs": [
    {
     "name": "stdout",
     "output_type": "stream",
     "text": [
      "Decision Tree Using Information Gain (from scratch)\n",
      "Confusion Matrix of the Classifier:\n",
      "[[32 12]\n",
      " [10 37]]\n",
      " Precision Score of the Classifier is : 0.7551020408163265\n",
      " Recall Score of the Classifier is : 0.7872340425531915\n",
      " F-Score of the Classifier is : 0.7708333333333333\n"
     ]
    },
    {
     "data": {
      "image/png": "[encoded data removed]",
      "text/plain": [
       "<Figure size 432x288 with 2 Axes>"
      ]
     },
     "metadata": {
      "needs_background": "light"
     },
     "output_type": "display_data"
    }
   ],
   "source": [
    "print('Decision Tree Using Information Gain (from scratch)')\n",
    "my_confusion_matrix(Y_test,y_test_predicted_dt)\n",
    "calculate_score(Y_test, y_test_predicted_dt)"
   ]
  },
  {
   "cell_type": "markdown",
   "metadata": {},
   "source": [
    "# 2 (1) Training the model with different percentage of training data"
   ]
  },
  {
   "cell_type": "markdown",
   "metadata": {},
   "source": [
    "## Decision Tree Using Gini Index "
   ]
  },
  {
   "cell_type": "code",
   "execution_count": 28,
   "metadata": {},
   "outputs": [
    {
     "name": "stdout",
     "output_type": "stream",
     "text": [
      "******************** Decision Tree Classfier(Gini Index) ********************\n",
      "\n",
      " Training features have 151 records and Testing features have 152 records.\n",
      "\n",
      " Percentage of training data used : 50 %\n",
      "\n",
      " Training accuracy : 100.0000\n",
      "\n",
      " Testing accuracy : 71.7105\n",
      "****************************************************\n",
      "\n",
      " Training features have 166 records and Testing features have 137 records.\n",
      "\n",
      " Percentage of training data used : 55 %\n",
      "\n",
      " Training accuracy : 100.0000\n",
      "\n",
      " Testing accuracy : 70.8029\n",
      "****************************************************\n",
      "\n",
      " Training features have 181 records and Testing features have 122 records.\n",
      "\n",
      " Percentage of training data used : 60 %\n",
      "\n",
      " Training accuracy : 100.0000\n",
      "\n",
      " Testing accuracy : 69.6721\n",
      "****************************************************\n",
      "\n",
      " Training features have 196 records and Testing features have 107 records.\n",
      "\n",
      " Percentage of training data used : 65 %\n",
      "\n",
      " Training accuracy : 100.0000\n",
      "\n",
      " Testing accuracy : 71.9626\n",
      "****************************************************\n",
      "\n",
      " Training features have 212 records and Testing features have 91 records.\n",
      "\n",
      " Percentage of training data used : 70 %\n",
      "\n",
      " Training accuracy : 100.0000\n",
      "\n",
      " Testing accuracy : 74.7253\n",
      "****************************************************\n",
      "\n",
      " Training features have 227 records and Testing features have 76 records.\n",
      "\n",
      " Percentage of training data used : 75 %\n",
      "\n",
      " Training accuracy : 100.0000\n",
      "\n",
      " Testing accuracy : 78.9474\n",
      "****************************************************\n",
      "\n",
      " Training features have 242 records and Testing features have 61 records.\n",
      "\n",
      " Percentage of training data used : 80 %\n",
      "\n",
      " Training accuracy : 100.0000\n",
      "\n",
      " Testing accuracy : 78.6885\n",
      "****************************************************\n",
      "\n",
      " Training features have 257 records and Testing features have 46 records.\n",
      "\n",
      " Percentage of training data used : 85 %\n",
      "\n",
      " Training accuracy : 100.0000\n",
      "\n",
      " Testing accuracy : 78.2609\n",
      "****************************************************\n",
      "\n",
      " Training features have 272 records and Testing features have 31 records.\n",
      "\n",
      " Percentage of training data used : 90 %\n",
      "\n",
      " Training accuracy : 100.0000\n",
      "\n",
      " Testing accuracy : 64.5161\n",
      "****************************************************\n",
      "\n",
      " Training features have 287 records and Testing features have 16 records.\n",
      "\n",
      " Percentage of training data used : 95 %\n",
      "\n",
      " Training accuracy : 100.0000\n",
      "\n",
      " Testing accuracy : 68.7500\n",
      "****************************************************\n"
     ]
    }
   ],
   "source": [
    "print('******************** Decision Tree Classfier(Gini Index) ********************')\n",
    "testing_accuracy = []\n",
    "training_percentage= np.arange(0.5,1,0.05)\n",
    "\n",
    "X_train_np_array = X_train.values\n",
    "Y_train_np_array = Y_train.values\n",
    "X_test_np_array = X_test.values\n",
    "\n",
    "for i in range(len(training_percentage)):\n",
    "    decision_tree_clf = DecisionTreeClassifier(random_state=0)\n",
    "    X_train,X_test,Y_train,Y_test = split_data(training_percentage[i])\n",
    "    decision_tree_clf.fit(X_train, Y_train)\n",
    "    \n",
    "    print('\\n Percentage of training data used :',int(100*training_percentage[i]),'%')\n",
    "    \n",
    "    y_train_predicted_dt = decision_tree_clf.predict(X_train)\n",
    "    print('\\n Training accuracy : %.4f' % (100*acc(Y_train, y_train_predicted_dt)))\n",
    "\n",
    "    y_test_predicted_dt = decision_tree_clf.predict(X_test)\n",
    "    \n",
    "    testing_accuracy.append(100*acc(Y_test, y_test_predicted_dt))\n",
    "    \n",
    "    print('\\n Testing accuracy : %.4f' % testing_accuracy[i])\n",
    "    print('****************************************************')"
   ]
  },
  {
   "cell_type": "code",
   "execution_count": 29,
   "metadata": {},
   "outputs": [
    {
     "data": {
      "text/plain": [
       "[<matplotlib.lines.Line2D at 0x1dccbb25e48>]"
      ]
     },
     "execution_count": 29,
     "metadata": {},
     "output_type": "execute_result"
    },
    {
     "data": {
      "image/png": "[encoded data removed]",
      "text/plain": [
       "<Figure size 432x288 with 1 Axes>"
      ]
     },
     "metadata": {
      "needs_background": "light"
     },
     "output_type": "display_data"
    }
   ],
   "source": [
    "plt.xlabel(\"Percentage of Training data\")\n",
    "plt.ylabel(\"Accuracy\")\n",
    "plt.title('Decision Tree Classifier(Gini Index) for different percentage of test data')\n",
    "\n",
    "plt.plot((100*training_percentage),testing_accuracy)"
   ]
  },
  {
   "cell_type": "markdown",
   "metadata": {},
   "source": [
    "## Decision Tree Using Information Gain "
   ]
  },
  {
   "cell_type": "code",
   "execution_count": 30,
   "metadata": {},
   "outputs": [
    {
     "name": "stdout",
     "output_type": "stream",
     "text": [
      "******************** Decision Tree Classfier(Information Gain) ********************\n",
      "\n",
      " Training features have 151 records and Testing features have 152 records.\n",
      "\n",
      " Percentage of test data used : 50 %\n",
      "\n",
      " Training accuracy : 100.0000\n",
      "\n",
      " Testing accuracy : 72.3684\n",
      "****************************************************\n",
      "\n",
      " Training features have 166 records and Testing features have 137 records.\n",
      "\n",
      " Percentage of test data used : 55 %\n",
      "\n",
      " Training accuracy : 100.0000\n",
      "\n",
      " Testing accuracy : 72.2628\n",
      "****************************************************\n",
      "\n",
      " Training features have 181 records and Testing features have 122 records.\n",
      "\n",
      " Percentage of test data used : 60 %\n",
      "\n",
      " Training accuracy : 100.0000\n",
      "\n",
      " Testing accuracy : 74.5902\n",
      "****************************************************\n",
      "\n",
      " Training features have 196 records and Testing features have 107 records.\n",
      "\n",
      " Percentage of test data used : 65 %\n",
      "\n",
      " Training accuracy : 100.0000\n",
      "\n",
      " Testing accuracy : 73.8318\n",
      "****************************************************\n",
      "\n",
      " Training features have 212 records and Testing features have 91 records.\n",
      "\n",
      " Percentage of test data used : 70 %\n",
      "\n",
      " Training accuracy : 100.0000\n",
      "\n",
      " Testing accuracy : 79.1209\n",
      "****************************************************\n",
      "\n",
      " Training features have 227 records and Testing features have 76 records.\n",
      "\n",
      " Percentage of test data used : 75 %\n",
      "\n",
      " Training accuracy : 100.0000\n",
      "\n",
      " Testing accuracy : 78.9474\n",
      "****************************************************\n",
      "\n",
      " Training features have 242 records and Testing features have 61 records.\n",
      "\n",
      " Percentage of test data used : 80 %\n",
      "\n",
      " Training accuracy : 100.0000\n",
      "\n",
      " Testing accuracy : 80.3279\n",
      "****************************************************\n",
      "\n",
      " Training features have 257 records and Testing features have 46 records.\n",
      "\n",
      " Percentage of test data used : 85 %\n",
      "\n",
      " Training accuracy : 100.0000\n",
      "\n",
      " Testing accuracy : 67.3913\n",
      "****************************************************\n",
      "\n",
      " Training features have 272 records and Testing features have 31 records.\n",
      "\n",
      " Percentage of test data used : 90 %\n",
      "\n",
      " Training accuracy : 100.0000\n",
      "\n",
      " Testing accuracy : 64.5161\n",
      "****************************************************\n",
      "\n",
      " Training features have 287 records and Testing features have 16 records.\n",
      "\n",
      " Percentage of test data used : 95 %\n",
      "\n",
      " Training accuracy : 100.0000\n",
      "\n",
      " Testing accuracy : 81.2500\n",
      "****************************************************\n"
     ]
    }
   ],
   "source": [
    "print('******************** Decision Tree Classfier(Information Gain) ********************')\n",
    "testing_accuracy = []\n",
    "training_percentage= np.arange(0.5,1,0.05)\n",
    "for i in range(len(training_percentage)):\n",
    "    decision_tree_clf = DecisionTreeClassifier(criterion = \"entropy\", random_state=0)\n",
    "    X_train,X_test,Y_train,Y_test = split_data(training_percentage[i])\n",
    "    decision_tree_clf.fit(X_train, Y_train)\n",
    "    \n",
    "    print('\\n Percentage of test data used :',int(100*training_percentage[i]),'%')\n",
    "    \n",
    "    y_train_predicted_dt = decision_tree_clf.predict(X_train)\n",
    "    print('\\n Training accuracy : %.4f' % (100*acc(Y_train, y_train_predicted_dt)))\n",
    "\n",
    "    y_test_predicted_dt = decision_tree_clf.predict(X_test)\n",
    "    \n",
    "    testing_accuracy.append(100*acc(Y_test, y_test_predicted_dt))\n",
    "    print('\\n Testing accuracy : %.4f' % testing_accuracy[i])\n",
    "    print('****************************************************')"
   ]
  },
  {
   "cell_type": "code",
   "execution_count": 31,
   "metadata": {},
   "outputs": [
    {
     "data": {
      "text/plain": [
       "[<matplotlib.lines.Line2D at 0x1dccbb75eb8>]"
      ]
     },
     "execution_count": 31,
     "metadata": {},
     "output_type": "execute_result"
    },
    {
     "data": {
      "image/png": "[encoded data removed]",
      "text/plain": [
       "<Figure size 432x288 with 1 Axes>"
      ]
     },
     "metadata": {
      "needs_background": "light"
     },
     "output_type": "display_data"
    }
   ],
   "source": [
    "plt.xlabel(\"Percentage of Training data\")\n",
    "plt.ylabel(\"Testing Accuracy\")\n",
    "plt.title('Decision Tree Classifier(Information Gain) for different percentage of test data')\n",
    "\n",
    "plt.plot((100*training_percentage),testing_accuracy)"
   ]
  },
  {
   "cell_type": "markdown",
   "metadata": {},
   "source": [
    "# 2 (2) Training the model with different depths"
   ]
  },
  {
   "cell_type": "markdown",
   "metadata": {},
   "source": [
    "## Decision Tree Using Gini Index"
   ]
  },
  {
   "cell_type": "code",
   "execution_count": 32,
   "metadata": {},
   "outputs": [
    {
     "name": "stdout",
     "output_type": "stream",
     "text": [
      "******************** Decision Tree Classfier(Gini Index) ********************\n",
      "\n",
      " Training features have 212 records and Testing features have 91 records.\n",
      "\n",
      " Max Depth Used : 1\n",
      "\n",
      " Training accuracy : 75.4717\n",
      "\n",
      " Testing accuracy : 76.9231\n",
      "****************************************************\n",
      "\n",
      " Max Depth Used : 2\n",
      "\n",
      " Training accuracy : 80.1887\n",
      "\n",
      " Testing accuracy : 73.6264\n",
      "****************************************************\n",
      "\n",
      " Max Depth Used : 3\n",
      "\n",
      " Training accuracy : 86.7925\n",
      "\n",
      " Testing accuracy : 81.3187\n",
      "****************************************************\n",
      "\n",
      " Max Depth Used : 4\n",
      "\n",
      " Training accuracy : 86.7925\n",
      "\n",
      " Testing accuracy : 76.9231\n",
      "****************************************************\n",
      "\n",
      " Max Depth Used : 5\n",
      "\n",
      " Training accuracy : 94.3396\n",
      "\n",
      " Testing accuracy : 73.6264\n",
      "****************************************************\n",
      "\n",
      " Max Depth Used : 6\n",
      "\n",
      " Training accuracy : 97.1698\n",
      "\n",
      " Testing accuracy : 74.7253\n",
      "****************************************************\n",
      "\n",
      " Max Depth Used : 7\n",
      "\n",
      " Training accuracy : 98.5849\n",
      "\n",
      " Testing accuracy : 75.8242\n",
      "****************************************************\n",
      "\n",
      " Max Depth Used : 8\n",
      "\n",
      " Training accuracy : 99.0566\n",
      "\n",
      " Testing accuracy : 74.7253\n",
      "****************************************************\n",
      "\n",
      " Max Depth Used : 9\n",
      "\n",
      " Training accuracy : 100.0000\n",
      "\n",
      " Testing accuracy : 74.7253\n",
      "****************************************************\n",
      "\n",
      " Max Depth Used : 10\n",
      "\n",
      " Training accuracy : 100.0000\n",
      "\n",
      " Testing accuracy : 74.7253\n",
      "****************************************************\n"
     ]
    }
   ],
   "source": [
    "print('******************** Decision Tree Classfier(Gini Index) ********************')\n",
    "testing_accuracy = []\n",
    "testing_depth= np.arange(1,11)\n",
    "X_train,X_test,Y_train,Y_test = split_data(0.7)\n",
    "X_train_np_array = X_train.values\n",
    "Y_train_np_array = Y_train.values\n",
    "X_test_np_array = X_test.values\n",
    "\n",
    "\n",
    "for i in range(len(testing_depth)):\n",
    "    decision_tree_clf = DecisionTreeClassifier(criterion = \"gini\",max_depth=testing_depth[i], random_state=0)\n",
    "    decision_tree_clf.fit(X_train, Y_train)\n",
    "    \n",
    "    print('\\n Max Depth Used :',testing_depth[i])\n",
    "    \n",
    "    y_train_predicted_dt = decision_tree_clf.predict(X_train)\n",
    "    print('\\n Training accuracy : %.4f' % (100*acc(Y_train, y_train_predicted_dt)))\n",
    "\n",
    "    y_test_predicted_dt = decision_tree_clf.predict(X_test)\n",
    "    \n",
    "    testing_accuracy.append(100*acc(Y_test, y_test_predicted_dt))\n",
    "    print('\\n Testing accuracy : %.4f' % testing_accuracy[i])\n",
    "    print('****************************************************')"
   ]
  },
  {
   "cell_type": "code",
   "execution_count": 33,
   "metadata": {},
   "outputs": [
    {
     "data": {
      "text/plain": [
       "[<matplotlib.lines.Line2D at 0x1dccbc0cc88>]"
      ]
     },
     "execution_count": 33,
     "metadata": {},
     "output_type": "execute_result"
    },
    {
     "data": {
      "image/png": "[encoded data removed]",
      "text/plain": [
       "<Figure size 432x288 with 1 Axes>"
      ]
     },
     "metadata": {
      "needs_background": "light"
     },
     "output_type": "display_data"
    }
   ],
   "source": [
    "plt.xlabel(\"Max Depth\")\n",
    "plt.ylabel(\"Testing Accuracy\")\n",
    "plt.title('Decision Tree Classifier(Gini Index) for different max_depth')\n",
    "\n",
    "plt.plot(testing_depth,testing_accuracy)"
   ]
  },
  {
   "cell_type": "markdown",
   "metadata": {},
   "source": [
    "## Decision Tree Using Information Gain"
   ]
  },
  {
   "cell_type": "code",
   "execution_count": 34,
   "metadata": {},
   "outputs": [
    {
     "name": "stdout",
     "output_type": "stream",
     "text": [
      "******************** Decision Tree Classfier(Information Gain) ********************\n",
      "\n",
      " Training features have 212 records and Testing features have 91 records.\n",
      "\n",
      " Max Depth Used : 1\n",
      "\n",
      " Training accuracy : 75.4717\n",
      "\n",
      " Testing accuracy : 76.9231\n",
      "****************************************************\n",
      "\n",
      " Max Depth Used : 2\n",
      "\n",
      " Training accuracy : 78.3019\n",
      "\n",
      " Testing accuracy : 73.6264\n",
      "****************************************************\n",
      "\n",
      " Max Depth Used : 3\n",
      "\n",
      " Training accuracy : 86.3208\n",
      "\n",
      " Testing accuracy : 75.8242\n",
      "****************************************************\n",
      "\n",
      " Max Depth Used : 4\n",
      "\n",
      " Training accuracy : 86.7925\n",
      "\n",
      " Testing accuracy : 75.8242\n",
      "****************************************************\n",
      "\n",
      " Max Depth Used : 5\n",
      "\n",
      " Training accuracy : 94.8113\n",
      "\n",
      " Testing accuracy : 79.1209\n",
      "****************************************************\n",
      "\n",
      " Max Depth Used : 6\n",
      "\n",
      " Training accuracy : 97.6415\n",
      "\n",
      " Testing accuracy : 80.2198\n",
      "****************************************************\n",
      "\n",
      " Max Depth Used : 7\n",
      "\n",
      " Training accuracy : 99.0566\n",
      "\n",
      " Testing accuracy : 79.1209\n",
      "****************************************************\n",
      "\n",
      " Max Depth Used : 8\n",
      "\n",
      " Training accuracy : 100.0000\n",
      "\n",
      " Testing accuracy : 79.1209\n",
      "****************************************************\n",
      "\n",
      " Max Depth Used : 9\n",
      "\n",
      " Training accuracy : 100.0000\n",
      "\n",
      " Testing accuracy : 79.1209\n",
      "****************************************************\n",
      "\n",
      " Max Depth Used : 10\n",
      "\n",
      " Training accuracy : 100.0000\n",
      "\n",
      " Testing accuracy : 79.1209\n",
      "****************************************************\n"
     ]
    }
   ],
   "source": [
    "print('******************** Decision Tree Classfier(Information Gain) ********************')\n",
    "testing_accuracy = []\n",
    "testing_depth= np.arange(1,11)\n",
    "X_train,X_test,Y_train,Y_test = split_data(0.7)\n",
    "X_train_np_array = X_train.values\n",
    "Y_train_np_array = Y_train.values\n",
    "X_test_np_array = X_test.values\n",
    "\n",
    "\n",
    "for i in range(len(testing_depth)):\n",
    "    decision_tree_clf = DecisionTreeClassifier(criterion = \"entropy\",max_depth=testing_depth[i], random_state=0)\n",
    "    decision_tree_clf.fit(X_train, Y_train)\n",
    "    \n",
    "    print('\\n Max Depth Used :',testing_depth[i])\n",
    "    \n",
    "    y_train_predicted_dt = decision_tree_clf.predict(X_train)\n",
    "    print('\\n Training accuracy : %.4f' % (100*acc(Y_train, y_train_predicted_dt)))\n",
    "\n",
    "    y_test_predicted_dt = decision_tree_clf.predict(X_test)\n",
    "    \n",
    "    testing_accuracy.append(100*acc(Y_test, y_test_predicted_dt))\n",
    "    print('\\n Testing accuracy : %.4f' % testing_accuracy[i])\n",
    "    print('****************************************************')"
   ]
  },
  {
   "cell_type": "code",
   "execution_count": 35,
   "metadata": {},
   "outputs": [
    {
     "data": {
      "text/plain": [
       "[<matplotlib.lines.Line2D at 0x1dccbc6c9e8>]"
      ]
     },
     "execution_count": 35,
     "metadata": {},
     "output_type": "execute_result"
    },
    {
     "data": {
      "image/png": "[encoded data removed]",
      "text/plain": [
       "<Figure size 432x288 with 1 Axes>"
      ]
     },
     "metadata": {
      "needs_background": "light"
     },
     "output_type": "display_data"
    }
   ],
   "source": [
    "plt.xlabel(\"Max Depth\")\n",
    "plt.ylabel(\"Testing Accuracy\")\n",
    "plt.title('Decision Tree Classifier(Gini Index) for different max_depth')\n",
    "\n",
    "plt.plot(testing_depth,testing_accuracy)"
   ]
  }
 ],
 "metadata": {
  "kernelspec": {
   "display_name": "Python 3",
   "language": "python",
   "name": "python3"
  },
  "language_info": {
   "codemirror_mode": {
    "name": "ipython",
    "version": 3
   },
   "file_extension": ".py",
   "mimetype": "text/x-python",
   "name": "python",
   "nbconvert_exporter": "python",
   "pygments_lexer": "ipython3",
   "version": "3.7.3"
  }
 },
 "nbformat": 4,
 "nbformat_minor": 4
}
